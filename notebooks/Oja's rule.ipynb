{
 "cells": [
  {
   "cell_type": "code",
   "execution_count": null,
   "metadata": {},
   "outputs": [],
   "source": [
    "# use the following if running in VS Code\n",
    "# %matplotlib ipympl\n",
    "import matplotlib.pyplot as plt\n",
    "from matplotlib.animation import FuncAnimation\n",
    "import numpy as np"
   ]
  },
  {
   "cell_type": "code",
   "execution_count": null,
   "metadata": {},
   "outputs": [],
   "source": [
    "N = 2\n",
    "P = 100\n",
    "rho = 0.5  # vary this and see how fast the algorithm converges!\n",
    "rule = 'oja'  # 'oja' or 'hebbian'\n",
    "\n",
    "cov = [[1, rho], [rho, 1]]\n",
    "X = np.random.multivariate_normal([0, 0], cov, P)\n",
    "eigvals, eigvecs = np.linalg.eigh(cov)\n",
    "\n",
    "# plot all of the points and the two eigenvectors\n",
    "plt.scatter(X[:, 0], X[:, 1])\n",
    "plt.quiver([0], [0], [eigvecs[0, 0]], [eigvecs[1, 0]], color=['r'], scale=4 * (1 / eigvals[0]), label=rf'$\\lambda_1 = {eigvals[0]:.2f}$')\n",
    "plt.quiver([0], [0], [eigvecs[0, 1]], [eigvecs[1, 1]], color=['b'], scale=4 * (1 / eigvals[1]), label=rf'$\\lambda_2 = {eigvals[1]:.2f}$')\n",
    "plt.legend()\n",
    "plt.xlim(-4, 4)\n",
    "plt.ylim(-4, 4)\n",
    "plt.show()"
   ]
  },
  {
   "cell_type": "code",
   "execution_count": null,
   "metadata": {},
   "outputs": [],
   "source": [
    "fig = plt.figure()\n",
    "\n",
    "w = np.random.randn(N)\n",
    "lr = 0.03\n",
    "\n",
    "def update(i):\n",
    "    global w\n",
    "    x = X[i]\n",
    "    y = w @ x\n",
    "    if rule == 'hebbian':\n",
    "        w += lr * y * x\n",
    "    elif rule == 'oja':\n",
    "        w += lr * (y * x - y*y * w)\n",
    "    else:\n",
    "        raise ValueError('unknown rule')\n",
    "\n",
    "    plt.cla()\n",
    "\n",
    "    # highlight the current point\n",
    "    plt.scatter(X[:i, 0], X[:i, 1], color='gray')\n",
    "    plt.scatter(X[i, 0], X[i, 1], color='red')\n",
    "    plt.scatter(X[i+1:, 0], X[i+1:, 1], color='gray')\n",
    "\n",
    "    # plot the current w and the two eigenvectors\n",
    "    plt.quiver([0], [0], [eigvecs[0, 0]], [eigvecs[1, 0]], color=['r'], scale=4 * (1 / eigvals[0]), label=rf'$\\lambda_1 = {eigvals[0]:.2f}$')\n",
    "    plt.quiver([0], [0], [eigvecs[0, 1]], [eigvecs[1, 1]], color=['b'], scale=4 * (1 / eigvals[1]), label=rf'$\\lambda_2 = {eigvals[1]:.2f}$')\n",
    "    plt.quiver([0], [0], [w[0]], [w[1]], color=['g'], scale=4, label=rf'$||w||_2 = {np.linalg.norm(w):.2f}$')\n",
    "    plt.legend()\n",
    "    plt.xlim(-4, 4)\n",
    "    plt.ylim(-4, 4)\n",
    "\n",
    "ani = FuncAnimation(fig, update, frames=P, interval=100)\n",
    "plt.show()\n",
    "\n",
    "# ani.save(f'{rule}.gif', writer='imagemagick', fps=10)"
   ]
  }
 ],
 "metadata": {
  "kernelspec": {
   "display_name": "base",
   "language": "python",
   "name": "python3"
  },
  "language_info": {
   "codemirror_mode": {
    "name": "ipython",
    "version": 3
   },
   "file_extension": ".py",
   "mimetype": "text/x-python",
   "name": "python",
   "nbconvert_exporter": "python",
   "pygments_lexer": "ipython3",
   "version": "3.9.12"
  },
  "orig_nbformat": 4,
  "vscode": {
   "interpreter": {
    "hash": "c30f2af5f468e7f5b45bcc30fca5f4886c90d54777aed916ed5f6294dfb24bf2"
   }
  }
 },
 "nbformat": 4,
 "nbformat_minor": 2
}
